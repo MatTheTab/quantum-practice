{
 "cells": [
  {
   "cell_type": "code",
   "execution_count": 1,
   "metadata": {},
   "outputs": [],
   "source": [
    "from qiskit import *"
   ]
  },
  {
   "cell_type": "code",
   "execution_count": 2,
   "metadata": {},
   "outputs": [
    {
     "name": "stderr",
     "output_type": "stream",
     "text": [
      "C:\\Users\\mateu\\AppData\\Local\\Temp\\ipykernel_10472\\1392246405.py:1: DeprecationWarning: The package qiskit.providers.ibmq is being deprecated. Please see https://ibm.biz/provider_migration_guide to get instructions on how to migrate to qiskit-ibm-provider (https://github.com/Qiskit/qiskit-ibm-provider) and qiskit-ibm-runtime (https://github.com/Qiskit/qiskit-ibm-runtime).\n",
      "  IBMQ.save_account('aaa552563ef2935ddb9a66adaaf3b62d6f4ceebca0329d242a22001bc2b54aecfb55e015ebe2f0ba62260fe68df606d9688e8b7a266111e6c076ef26b248b5fe')\n",
      "C:\\Users\\mateu\\AppData\\Local\\Temp\\ipykernel_10472\\1392246405.py:1: DeprecationWarning: The qiskit.IBMQ entrypoint and the qiskit-ibmq-provider package (accessible from 'qiskit.providers.ibmq`) are deprecated and will be removed in a future release. Instead you should use the qiskit-ibm-provider package which is accessible from 'qiskit_ibm_provider'. You can install it with 'pip install qiskit_ibm_provider'. Just replace 'qiskit.IBMQ' with 'qiskit_ibm_provider.IBMProvider'\n",
      "  IBMQ.save_account('aaa552563ef2935ddb9a66adaaf3b62d6f4ceebca0329d242a22001bc2b54aecfb55e015ebe2f0ba62260fe68df606d9688e8b7a266111e6c076ef26b248b5fe')\n",
      "configrc.store_credentials:WARNING:2023-07-08 17:08:16,863: Credentials already present. Set overwrite=True to overwrite.\n"
     ]
    }
   ],
   "source": [
    "IBMQ.save_account('aaa552563ef2935ddb9a66adaaf3b62d6f4ceebca0329d242a22001bc2b54aecfb55e015ebe2f0ba62260fe68df606d9688e8b7a266111e6c076ef26b248b5fe')"
   ]
  },
  {
   "cell_type": "code",
   "execution_count": 3,
   "metadata": {},
   "outputs": [
    {
     "data": {
      "text/plain": [
       "<AccountProvider for IBMQ(hub='ibm-q', group='open', project='main')>"
      ]
     },
     "execution_count": 3,
     "metadata": {},
     "output_type": "execute_result"
    }
   ],
   "source": [
    "IBMQ.load_account()"
   ]
  },
  {
   "cell_type": "code",
   "execution_count": 4,
   "metadata": {},
   "outputs": [],
   "source": [
    "provider=IBMQ.get_provider(\"ibm-q\")"
   ]
  },
  {
   "cell_type": "code",
   "execution_count": 5,
   "metadata": {},
   "outputs": [
    {
     "data": {
      "text/plain": [
       "[<IBMQSimulator('ibmq_qasm_simulator') from IBMQ(hub='ibm-q', group='open', project='main')>,\n",
       " <IBMQBackend('ibmq_lima') from IBMQ(hub='ibm-q', group='open', project='main')>,\n",
       " <IBMQBackend('ibmq_belem') from IBMQ(hub='ibm-q', group='open', project='main')>,\n",
       " <IBMQBackend('ibmq_quito') from IBMQ(hub='ibm-q', group='open', project='main')>,\n",
       " <IBMQSimulator('simulator_statevector') from IBMQ(hub='ibm-q', group='open', project='main')>,\n",
       " <IBMQSimulator('simulator_mps') from IBMQ(hub='ibm-q', group='open', project='main')>,\n",
       " <IBMQSimulator('simulator_extended_stabilizer') from IBMQ(hub='ibm-q', group='open', project='main')>,\n",
       " <IBMQSimulator('simulator_stabilizer') from IBMQ(hub='ibm-q', group='open', project='main')>,\n",
       " <IBMQBackend('ibmq_jakarta') from IBMQ(hub='ibm-q', group='open', project='main')>,\n",
       " <IBMQBackend('ibmq_manila') from IBMQ(hub='ibm-q', group='open', project='main')>,\n",
       " <IBMQBackend('ibm_lagos') from IBMQ(hub='ibm-q', group='open', project='main')>,\n",
       " <IBMQBackend('ibm_nairobi') from IBMQ(hub='ibm-q', group='open', project='main')>,\n",
       " <IBMQBackend('ibm_perth') from IBMQ(hub='ibm-q', group='open', project='main')>]"
      ]
     },
     "execution_count": 5,
     "metadata": {},
     "output_type": "execute_result"
    }
   ],
   "source": [
    "provider.backends()"
   ]
  },
  {
   "cell_type": "code",
   "execution_count": 6,
   "metadata": {},
   "outputs": [
    {
     "name": "stdout",
     "output_type": "stream",
     "text": [
      "ibmq_qasm_simulator: 0: simulated\n",
      "ibmq_lima: 6: 5\n",
      "ibmq_belem: 71: 5\n",
      "ibmq_quito: 8: 5\n",
      "simulator_statevector: 0: simulated\n",
      "simulator_mps: 0: simulated\n",
      "simulator_extended_stabilizer: 0: simulated\n",
      "simulator_stabilizer: 0: simulated\n",
      "ibmq_jakarta: 7: 7\n",
      "ibmq_manila: 10: 5\n",
      "ibm_lagos: 99: 7\n",
      "ibm_nairobi: 2952: 7\n",
      "ibm_perth: 92: 7\n"
     ]
    }
   ],
   "source": [
    "for backend in provider.backends():\n",
    "    try:\n",
    "        qubit_count = len(backend.properties().qubits)\n",
    "    except:\n",
    "        qubit_count = \"simulated\"\n",
    "    print(f\"{backend.name()}: {backend.status().pending_jobs}: {qubit_count}\")"
   ]
  },
  {
   "cell_type": "code",
   "execution_count": null,
   "metadata": {},
   "outputs": [],
   "source": []
  }
 ],
 "metadata": {
  "kernelspec": {
   "display_name": "Quantum",
   "language": "python",
   "name": "python3"
  },
  "language_info": {
   "codemirror_mode": {
    "name": "ipython",
    "version": 3
   },
   "file_extension": ".py",
   "mimetype": "text/x-python",
   "name": "python",
   "nbconvert_exporter": "python",
   "pygments_lexer": "ipython3",
   "version": "3.11.3"
  },
  "orig_nbformat": 4
 },
 "nbformat": 4,
 "nbformat_minor": 2
}
